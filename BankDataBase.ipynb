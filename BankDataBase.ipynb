{
 "cells": [
  {
   "cell_type": "code",
   "execution_count": 19,
   "metadata": {},
   "outputs": [],
   "source": [
    "import pandas as pd\n",
    "import mysql.connector"
   ]
  },
  {
   "cell_type": "code",
   "execution_count": 20,
   "metadata": {},
   "outputs": [
    {
     "name": "stdout",
     "output_type": "stream",
     "text": [
      "Enter MySQL config:\n"
     ]
    },
    {
     "name": "stdin",
     "output_type": "stream",
     "text": [
      "Host:  localhost\n",
      "User:  root\n",
      "Password:  1234\n",
      "Database:  school\n",
      "Target Table:  students\n",
      "Excel/CSV file path:  students_100.xlsx\n"
     ]
    }
   ],
   "source": [
    "# Ask for config\n",
    "print(\"Enter MySQL config:\")\n",
    "host = input(\"Host: \")\n",
    "user = input(\"User: \")\n",
    "password = input(\"Password: \")\n",
    "database = input(\"Database: \")\n",
    "table_name = input(\"Target Table: \")\n",
    "file_path = input(\"Excel/CSV file path: \")\n"
   ]
  },
  {
   "cell_type": "code",
   "execution_count": 21,
   "metadata": {},
   "outputs": [],
   "source": [
    "# Connect\n",
    "conn = mysql.connector.connect(\n",
    "    host=host,\n",
    "    user=user,\n",
    "    password=password,\n",
    "    database=database)\n",
    "cursor = conn.cursor()"
   ]
  },
  {
   "cell_type": "code",
   "execution_count": 22,
   "metadata": {},
   "outputs": [
    {
     "name": "stdout",
     "output_type": "stream",
     "text": [
      "Loaded 100 rows with columns: ['ID', 'FullName', 'Email', 'Phone', 'Address', 'Birth_Date']\n"
     ]
    }
   ],
   "source": [
    "# Read file\n",
    "if file_path.endswith(\".xlsx\"):\n",
    "    df = pd.read_excel(file_path, engine=\"openpyxl\")\n",
    "elif file_path.endswith(\".csv\"):\n",
    "    df = pd.read_csv(file_path)\n",
    "else:\n",
    "    raise ValueError(\"File must be CSV or Excel\")\n",
    "\n",
    "print(f\"Loaded {len(df)} rows with columns: {list(df.columns)}\")\n"
   ]
  },
  {
   "cell_type": "code",
   "execution_count": 23,
   "metadata": {},
   "outputs": [
    {
     "data": {
      "text/plain": [
       "[[1,\n",
       "  'Allison Hill',\n",
       "  'jillrhodes@miller.com',\n",
       "  201686579303.0,\n",
       "  '386 Shane Harbors, Port Lindachester, KY 20880',\n",
       "  '1969-04-02'],\n",
       " [2,\n",
       "  'Gabrielle Davis',\n",
       "  'melanie94@blair.com',\n",
       "  nan,\n",
       "  'Unit 6184 Box 9593, DPO AP 09617',\n",
       "  '1957-09-19'],\n",
       " [3,\n",
       "  'Patricia Galloway',\n",
       "  'jamesshawn@martin-kelly.com',\n",
       "  201026855092.0,\n",
       "  '283 Steven Groves, Lake Mark, WI 07832',\n",
       "  '1970-03-10'],\n",
       " [4,\n",
       "  'Renee Morales',\n",
       "  'robinbradley@edwards.info',\n",
       "  201796233790.0,\n",
       "  nan,\n",
       "  '1997-04-19'],\n",
       " [5,\n",
       "  'Michael Carlson',\n",
       "  'dcarlson@hotmail.com',\n",
       "  201295310485.0,\n",
       "  '184 Rodriguez Mews, South Aaron, VA 35023',\n",
       "  '1988-08-31']]"
      ]
     },
     "execution_count": 23,
     "metadata": {},
     "output_type": "execute_result"
    }
   ],
   "source": [
    "# Convert to list of tuples\n",
    "records = df.values.tolist()\n",
    "records[:5]"
   ]
  },
  {
   "cell_type": "code",
   "execution_count": 24,
   "metadata": {},
   "outputs": [],
   "source": [
    "# Prepare insert query dynamically\n",
    "cols = \", \".join(df.columns)\n",
    "placeholders = \", \".join([\"%s\"] * len(df.columns))\n",
    "update_stmt = \", \".join([f\"{col}=VALUES({col})\" for col in df.columns])\n",
    "\n",
    "insert_sql = f\"\"\"\n",
    "INSERT INTO {table_name} ({cols})\n",
    "VALUES ({placeholders})\n",
    "ON DUPLICATE KEY UPDATE {update_stmt}\n",
    "\"\"\"\n"
   ]
  },
  {
   "cell_type": "code",
   "execution_count": 25,
   "metadata": {},
   "outputs": [
    {
     "name": "stdout",
     "output_type": "stream",
     "text": [
      "Batch 1: inserted/updated 100 rows\n",
      " Done. Total rows processed: 100\n"
     ]
    }
   ],
   "source": [
    "# Insert\n",
    "batch_size = 500\n",
    "\n",
    "for i in range(0, len(records), batch_size):\n",
    "    batch = records[i:i+batch_size]  \n",
    "    cursor.executemany(insert_sql, batch)\n",
    "    conn.commit()\n",
    "    print(f\"Batch {i//batch_size + 1}: inserted/updated {len(batch)} rows\")\n",
    "    \n",
    "print(f\" Done. Total rows processed: {len(records)}\")"
   ]
  },
  {
   "cell_type": "code",
   "execution_count": 26,
   "metadata": {},
   "outputs": [
    {
     "name": "stdout",
     "output_type": "stream",
     "text": [
      " Rows in table now: 100\n"
     ]
    }
   ],
   "source": [
    "# Verify row count in table\n",
    "cursor.execute(f\"SELECT COUNT(*) FROM {table_name}\")\n",
    "print(\" Rows in table now:\", cursor.fetchone()[0])"
   ]
  },
  {
   "cell_type": "code",
   "execution_count": 27,
   "metadata": {},
   "outputs": [],
   "source": [
    "cursor.close()\n",
    "conn.close()"
   ]
  },
  {
   "cell_type": "code",
   "execution_count": null,
   "metadata": {},
   "outputs": [],
   "source": []
  }
 ],
 "metadata": {
  "kernelspec": {
   "display_name": "Python 3 (ipykernel)",
   "language": "python",
   "name": "python3"
  },
  "language_info": {
   "codemirror_mode": {
    "name": "ipython",
    "version": 3
   },
   "file_extension": ".py",
   "mimetype": "text/x-python",
   "name": "python",
   "nbconvert_exporter": "python",
   "pygments_lexer": "ipython3",
   "version": "3.12.10"
  },
  "prev_pub_hash": "ecd529bffd0cf45ce3f937ff22c77ebad318d4569e50f2539bf1215420b6967a"
 },
 "nbformat": 4,
 "nbformat_minor": 4
}
